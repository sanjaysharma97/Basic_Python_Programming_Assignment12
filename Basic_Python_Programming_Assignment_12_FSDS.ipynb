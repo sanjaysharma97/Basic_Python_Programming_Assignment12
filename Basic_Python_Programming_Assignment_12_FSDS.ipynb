{
 "cells": [
  {
   "cell_type": "markdown",
   "id": "35c8971f",
   "metadata": {},
   "source": [
    "# 1. Write a Python program to Extract Unique values dictionary values?\n",
    "\n",
    "ANSWER-"
   ]
  },
  {
   "cell_type": "code",
   "execution_count": 7,
   "id": "45c21f74",
   "metadata": {},
   "outputs": [
    {
     "name": "stdout",
     "output_type": "stream",
     "text": [
      "how many elements you want to see in dictionary: 5\n",
      "Enter key number : 1\n",
      "Enter values : sanjay\n",
      "Enter key number : 2\n",
      "Enter values : ineuron\n",
      "Enter key number : 3\n",
      "Enter values : piyush\n",
      "Enter key number : 4\n",
      "Enter values : sanjay\n",
      "Enter key number : 5\n",
      "Enter values : sanjay\n",
      "{'1': 'sanjay', '2': 'ineuron', '3': 'piyush', '4': 'sanjay', '5': 'sanjay'}\n",
      "Unique Values:['sanjay', 'ineuron', 'piyush']\n",
      "how many elements you want to see in dictionary: 4\n",
      "Enter key number : 1\n",
      "Enter values : ineuron\n",
      "Enter key number : 2\n",
      "Enter values : ineuron\n",
      "Enter key number : 3\n",
      "Enter values : ineuron\n",
      "Enter key number : 4\n",
      "Enter values : ineuron\n",
      "{'1': 'ineuron', '2': 'ineuron', '3': 'ineuron', '4': 'ineuron'}\n",
      "Unique Values:['ineuron']\n"
     ]
    }
   ],
   "source": [
    "def extractUniqueValues():\n",
    "    employees = {}\n",
    "    n=int(input(\"how many elements you want to see in dictionary: \"))\n",
    "    for i in range(n):\n",
    "        key = input(\"Enter key number : \")\n",
    "        name = input(\"Enter values : \")\n",
    "\n",
    "        employees[key] = name\n",
    "    print(employees)\n",
    "    print(f'Unique Values:{list(set(employees.values()))}')\n",
    "    \n",
    "extractUniqueValues()\n",
    "extractUniqueValues()\n",
    "\n"
   ]
  },
  {
   "cell_type": "markdown",
   "id": "1632f88c",
   "metadata": {},
   "source": [
    "# 2. Write a Python program to find the sum of all items in a dictionary?\n",
    "\n",
    "ANSWER-"
   ]
  },
  {
   "cell_type": "code",
   "execution_count": 12,
   "id": "41f57c65",
   "metadata": {},
   "outputs": [
    {
     "name": "stdout",
     "output_type": "stream",
     "text": [
      "enter numbers of items you want into the dictionary: 5\n",
      "enter the name : pen\n",
      "enter the numbers of items: 10\n",
      "enter the name : pencil\n",
      "enter the numbers of items: 15\n",
      "enter the name : box\n",
      "enter the numbers of items: 3\n",
      "enter the name : book\n",
      "enter the numbers of items: 12\n",
      "enter the name : scale\n",
      "enter the numbers of items: 30\n",
      "{'pen': 10, 'pencil': 15, 'box': 3, 'book': 12, 'scale': 30}\n",
      "the sum of all items {'pen': 10, 'pencil': 15, 'box': 3, 'book': 12, 'scale': 30}is 70\n"
     ]
    }
   ],
   "source": [
    "def sum_items():\n",
    "    d={}\n",
    "    n=int(input(\"enter numbers of items you want into the dictionary: \"))\n",
    "    for i in range(n):\n",
    "        key=input(\"enter the name : \")\n",
    "        items=int(input(\"enter the numbers of items: \"))\n",
    "        d[key]=items\n",
    "    print(d) \n",
    "    print(f'the sum of all items {d}is {sum(d.values())}')\n",
    "    \n",
    "sum_items()    \n",
    "    "
   ]
  },
  {
   "cell_type": "markdown",
   "id": "36634c57",
   "metadata": {},
   "source": [
    "# 3. Write a Python program to Merging two Dictionaries?\n",
    "\n",
    "ANSWER-"
   ]
  },
  {
   "cell_type": "code",
   "execution_count": 14,
   "id": "dc83d032",
   "metadata": {},
   "outputs": [
    {
     "name": "stdout",
     "output_type": "stream",
     "text": [
      "enter numbers of items you want: 3\n",
      "enter the number of key: 1\n",
      "enter the name of employees: piyush\n",
      "{'1': 'piyush'}\n",
      "enter the number of key: 2\n",
      "enter the name of employees: sanjay\n",
      "{'1': 'piyush', '2': 'sanjay'}\n",
      "enter the number of key: 3\n",
      "enter the name of employees: ineuron\n",
      "{'1': 'piyush', '2': 'sanjay', '3': 'ineuron'}\n",
      "enter the number of key: 4\n",
      "enter the name of employees: sam\n",
      "{'4': 'sam'}\n",
      "enter the number of key: 5\n",
      "enter the name of employees: fam\n",
      "{'4': 'sam', '5': 'fam'}\n",
      "enter the number of key: 6\n",
      "enter the name of employees: vam\n",
      "{'4': 'sam', '5': 'fam', '6': 'vam'}\n",
      "{'1': 'piyush', '2': 'sanjay', '3': 'ineuron', '4': 'sam', '5': 'fam', '6': 'vam'}\n"
     ]
    }
   ],
   "source": [
    "dict1={}\n",
    "dict2={}\n",
    "n=int(input(\"enter numbers of items you want: \"))\n",
    "for i in range(n):\n",
    "    key=input(\"enter the number of key: \")\n",
    "    values=input(\"enter the name of employees: \")\n",
    "    dict1[key]=values\n",
    "    print(dict1)\n",
    "    \n",
    "for j in range(n):\n",
    "    key=input(\"enter the number of key: \")\n",
    "    values=input(\"enter the name of employees: \")\n",
    "    dict2[key]=values\n",
    "    print(dict2)\n",
    "    \n",
    "dict1.update(dict2)\n",
    "print(dict1)\n",
    "    "
   ]
  },
  {
   "cell_type": "markdown",
   "id": "357b4c8d",
   "metadata": {},
   "source": [
    "# 4. Write a Python program to convert key-values list to flat dictionary?\n",
    "\n",
    "ANSWER-"
   ]
  },
  {
   "cell_type": "code",
   "execution_count": 16,
   "id": "007c4292",
   "metadata": {},
   "outputs": [
    {
     "name": "stdout",
     "output_type": "stream",
     "text": [
      "{'p': 10, 'q': 20, 'r': 30, 's': 40, 't': 50}\n"
     ]
    }
   ],
   "source": [
    "in_list=[('p',10),('q',20),('r',30),('s',40),('t',50)]\n",
    "out_dict={}\n",
    "for i in in_list:\n",
    "    out_dict[i[0]]=i[1]\n",
    "print(out_dict)    "
   ]
  },
  {
   "cell_type": "markdown",
   "id": "85eced72",
   "metadata": {},
   "source": [
    "# 5. Write a Python program to insertion at the beginning in OrderedDict?\n",
    "\n",
    "ANSWER-"
   ]
  },
  {
   "cell_type": "code",
   "execution_count": 24,
   "id": "76329deb",
   "metadata": {},
   "outputs": [
    {
     "name": "stdout",
     "output_type": "stream",
     "text": [
      "how much items you want into the dictionary: 3\n",
      "enter key number: 1\n",
      "enter items name: Hello\n",
      "{'Hello': '1'}\n",
      "enter key number: 2\n",
      "enter items name: Hey\n",
      "{'Hello': '1', 'Hey': '2'}\n",
      "enter key number: 3\n",
      "enter items name: Hii\n",
      "{'Hello': '1', 'Hey': '2', 'Hii': '3'}\n",
      "OrderedDict([('Hello', '1'), ('Hey', '2'), ('Hii', '3')])\n",
      "OrderedDict([('0', 'at the beginning'), ('Hello', '1'), ('Hey', '2'), ('Hii', '3')])\n"
     ]
    }
   ],
   "source": [
    "from collections import OrderedDict\n",
    "dict1={}\n",
    "dict2={'0':'at the beginning'}\n",
    "n=int(input(\"how much items you want into the dictionary: \"))\n",
    "for i in range(n):\n",
    "    key=input(\"enter key number: \")\n",
    "    items=input(\"enter items name: \")\n",
    "    dict1[items]=key\n",
    "    print(dict1)\n",
    "final_list = OrderedDict(dict(dict1.items()))\n",
    "print(final_list)\n",
    "final_list.update(dict2)\n",
    "final_list.move_to_end('0',last=False)\n",
    "print(final_list)"
   ]
  },
  {
   "cell_type": "markdown",
   "id": "cbd267c9",
   "metadata": {},
   "source": [
    "# 6. Write a Python program to check order of character in string using OrderedDict()?\n",
    "\n",
    "ANSWER-"
   ]
  },
  {
   "cell_type": "code",
   "execution_count": 2,
   "id": "2db08a15",
   "metadata": {},
   "outputs": [
    {
     "name": "stdout",
     "output_type": "stream",
     "text": [
      "how much items you want into the dictionary: 5\n",
      "enter key number: 1\n",
      "enter items name: a\n",
      "{'a': '1'}\n",
      "enter key number: 2\n",
      "enter items name: c\n",
      "{'a': '1', 'c': '2'}\n",
      "enter key number: 3\n",
      "enter items name: e\n",
      "{'a': '1', 'c': '2', 'e': '3'}\n",
      "enter key number: 4\n",
      "enter items name: d\n",
      "{'a': '1', 'c': '2', 'e': '3', 'd': '4'}\n",
      "enter key number: 5\n",
      "enter items name: b\n",
      "{'a': '1', 'c': '2', 'e': '3', 'd': '4', 'b': '5'}\n",
      "OrderedDict([('a', '1'), ('b', '5'), ('c', '2'), ('d', '4'), ('e', '3')])\n"
     ]
    }
   ],
   "source": [
    "from collections import OrderedDict\n",
    "dict1={}\n",
    "n=int(input(\"how much items you want into the dictionary: \"))\n",
    "for i in range(n):\n",
    "    key=input(\"enter key number: \")\n",
    "    items=input(\"enter items name: \")\n",
    "    dict1[items]=key\n",
    "    print(dict1)\n",
    "final_list = OrderedDict(dict(sorted(dict1.items())))\n",
    "print(final_list)\n",
    "    "
   ]
  },
  {
   "cell_type": "markdown",
   "id": "b34b24db",
   "metadata": {},
   "source": [
    "# 7. Write a Python program to sort Python Dictionaries by Key or Value?\n",
    "\n",
    "ANSWER-"
   ]
  },
  {
   "cell_type": "code",
   "execution_count": 29,
   "id": "f6626baa",
   "metadata": {},
   "outputs": [
    {
     "name": "stdout",
     "output_type": "stream",
     "text": [
      "enter numbers of items: 5\n",
      "enter the key number: 1\n",
      "enter the item name: cat\n",
      "{'1': 'cat'}\n",
      "enter the key number: 2\n",
      "enter the item name: apple\n",
      "{'1': 'cat', '2': 'apple'}\n",
      "enter the key number: 3\n",
      "enter the item name: bat\n",
      "{'1': 'cat', '2': 'apple', '3': 'bat'}\n",
      "enter the key number: 4\n",
      "enter the item name: mat\n",
      "{'1': 'cat', '2': 'apple', '3': 'bat', '4': 'mat'}\n",
      "enter the key number: 5\n",
      "enter the item name: dog\n",
      "{'1': 'cat', '2': 'apple', '3': 'bat', '4': 'mat', '5': 'dog'}\n",
      "{'1': 'cat', '2': 'apple', '3': 'bat', '4': 'mat', '5': 'dog'}\n",
      "{'2': 'apple', '3': 'bat', '1': 'cat', '5': 'dog', '4': 'mat'}\n"
     ]
    }
   ],
   "source": [
    "dict1={}\n",
    "n=int(input(\"enter numbers of items: \"))\n",
    "for i in range(n):\n",
    "    key=input(\"enter the key number: \")\n",
    "    value=input(\"enter the item name: \")\n",
    "    dict1[key]=value\n",
    "    print(dict1)\n",
    "    \n",
    "def sorting(dictionary,sort_type):\n",
    "    if sort_type=='key':\n",
    "        print(dict(sorted(dictionary.items(),key=lambda x:x[0],reverse=False)))\n",
    "    else:\n",
    "        print(dict(sorted(dictionary.items(),key=lambda x:x[1],reverse=False)))\n",
    "        \n",
    "        \n",
    "sorting(dict1,'key')\n",
    "sorting(dict1,'value')\n",
    "        \n",
    "    "
   ]
  },
  {
   "cell_type": "code",
   "execution_count": null,
   "id": "59787847",
   "metadata": {},
   "outputs": [],
   "source": []
  }
 ],
 "metadata": {
  "kernelspec": {
   "display_name": "Python 3 (ipykernel)",
   "language": "python",
   "name": "python3"
  },
  "language_info": {
   "codemirror_mode": {
    "name": "ipython",
    "version": 3
   },
   "file_extension": ".py",
   "mimetype": "text/x-python",
   "name": "python",
   "nbconvert_exporter": "python",
   "pygments_lexer": "ipython3",
   "version": "3.9.12"
  }
 },
 "nbformat": 4,
 "nbformat_minor": 5
}
